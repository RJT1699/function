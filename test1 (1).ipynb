{
  "metadata": {
    "kernelspec": {
      "name": "python",
      "display_name": "Python (Pyodide)",
      "language": "python"
    },
    "language_info": {
      "codemirror_mode": {
        "name": "python",
        "version": 3
      },
      "file_extension": ".py",
      "mimetype": "text/x-python",
      "name": "python",
      "nbconvert_exporter": "python",
      "pygments_lexer": "ipython3",
      "version": "3.8"
    }
  },
  "nbformat_minor": 5,
  "nbformat": 4,
  "cells": [
    {
      "id": "0270175e-f5bb-4e33-aca8-810810001a2a",
      "cell_type": "code",
      "source": "1. #What is Python, and why is it popular?\n* #python is a programing language .it  high-level, general-purpose programming language for creating instructing for a computer to follow.\n   #is it popular because:\n   #widely use in the indusrty \n   # a lot of libraries\n   # autometion\n   # easy to lean\n   # verstality\n   # huge active communty\n   # Dynamic typing\n   # Readability\n   # image processing\n",
      "metadata": {
        "trusted": true
      },
      "outputs": [],
      "execution_count": null
    },
    {
      "id": "509c6a21-1d8a-4783-807b-0ad36376865c",
      "cell_type": "code",
      "source": "2. #What is an interpreter in Python?",
      "metadata": {
        "trusted": true
      },
      "outputs": [],
      "execution_count": null
    },
    {
      "id": "58ec56f5-4664-49ae-ac80-0fcecfdabba0",
      "cell_type": "code",
      "source": "* #Interpreters are the computer program that will convert the source code or an high level language into intermediate code (machine level language).\n  #It is also called translator in programming terminology. Interpreters executes each line of statements slowly. This process is called Interpretation.\n  #For example Python is an interpreted language, PHP, Ruby, and JavaScript.\"\"\"",
      "metadata": {
        "trusted": true
      },
      "outputs": [],
      "execution_count": null
    },
    {
      "id": "8e2c5e9a-02c2-48ad-ac0f-a08952803b7c",
      "cell_type": "code",
      "source": "3. #What are pre-defined keywords in Python ?",
      "metadata": {
        "trusted": true
      },
      "outputs": [],
      "execution_count": null
    },
    {
      "id": "ef6ae74a-5909-4257-949a-11a46c0fca7c",
      "cell_type": "code",
      "source": "* #Python keywords are reserved words that have predefined meanings and cannot be used as identifiers (variable names, function names, etc.)\n  #import keyword\n  #print (keyword.kwlist)",
      "metadata": {
        "trusted": true
      },
      "outputs": [
        {
          "name": "stdout",
          "output_type": "stream",
          "text": "['False', 'None', 'True', 'and', 'as', 'assert', 'async', 'await', 'break', 'class', 'continue', 'def', 'del', 'elif', 'else', 'except', 'finally', 'for', 'from', 'global', 'if', 'import', 'in', 'is', 'lambda', 'nonlocal', 'not', 'or', 'pass', 'raise', 'return', 'try', 'while', 'with', 'yield']\n"
        }
      ],
      "execution_count": 2
    },
    {
      "id": "8e656784-97d3-4231-bd37-2af5e916bdd1",
      "cell_type": "code",
      "source": "4.  #Can keywords be used as variable names ",
      "metadata": {
        "trusted": true
      },
      "outputs": [],
      "execution_count": null
    },
    {
      "id": "c04065f6-9554-4685-89e2-8acb555d61c8",
      "cell_type": "code",
      "source": "* #No keyword can't be use as variable name. ",
      "metadata": {
        "trusted": true
      },
      "outputs": [],
      "execution_count": null
    },
    {
      "id": "269e3d28-106b-42c3-ae3e-9bdb0c651a27",
      "cell_type": "code",
      "source": "5.  #What is mutability in Python ",
      "metadata": {
        "trusted": true
      },
      "outputs": [],
      "execution_count": null
    },
    {
      "id": "6e8dae2e-f666-4b43-af5d-e644ea34ac2b",
      "cell_type": "code",
      "source": "* # mu·ta·ble: liable to change. object whose sate or value can be change after they are created are colled mutable object.\n  #Two types of mutable objects in Python are: list and dict \n  #Since list s are mutable, and my_list is a list, we can perform operations like pop() that change the list (i.e. remove an element from the end of the list).",
      "metadata": {
        "trusted": true
      },
      "outputs": [],
      "execution_count": null
    },
    {
      "id": "d0e70bdf-bc96-447a-80d0-b96f4b3f07f1",
      "cell_type": "code",
      "source": "6.  #Why are lists mutable, but tuples are immutable ?",
      "metadata": {
        "trusted": true
      },
      "outputs": [],
      "execution_count": null
    },
    {
      "id": "e7ea411d-8937-450c-8f2b-619a37f818ac",
      "cell_type": "code",
      "source": "*  #lists are mutable. This means we can change an item in a list by accessing it directly as part of the assignment statement.\n   #Using the indexing operator (square brackets) on the left side of an assignment, we can update one of the list items.\n   #Once a tuple is created, you cannot change its values. Tuples are unchangeable, or immutable as it also is called.\n   #But there is a workaround. You can convert the tuple into a list, change the list, and convert the list back into a tuple",
      "metadata": {
        "trusted": true
      },
      "outputs": [],
      "execution_count": null
    },
    {
      "id": "af67584d-6fb0-406f-9067-d914dbd70549",
      "cell_type": "code",
      "source": "7. #What is the difference between “==” and “is” operators in Python? ",
      "metadata": {
        "trusted": true
      },
      "outputs": [],
      "execution_count": null
    },
    {
      "id": "d5a6ade7-a330-4068-bcf9-3320fe70e4ae",
      "cell_type": "code",
      "source": "*  #== (Equality operator):\n   #It compares the values of two objects. If the values are the same, it returns True; otherwise, it returns False.\n   #is (Identity operator):\n   #It checks if two variables refer to the same object in memory. It returns True if they do, and False otherwise.",
      "metadata": {
        "trusted": true
      },
      "outputs": [],
      "execution_count": null
    },
    {
      "id": "e8d6a904-c613-4515-8906-952d6c165828",
      "cell_type": "code",
      "source": "8. #What are logical operators in Python ?\n*  #Logical operators in Python are used to combine or modify conditional statements.\n   #They work with boolean values (True or False) and return a boolean result.\n   #There are three main logical operators in Python: and, or, and not. ",
      "metadata": {
        "trusted": true
      },
      "outputs": [],
      "execution_count": null
    },
    {
      "id": "a368bf7c-ba6f-4f60-9c3b-7b6b3e324da6",
      "cell_type": "code",
      "source": "9. #What is type casting in Python ?",
      "metadata": {
        "trusted": true
      },
      "outputs": [],
      "execution_count": null
    },
    {
      "id": "1aeee5a2-de31-4dab-b0fe-7899adfd8b8f",
      "cell_type": "code",
      "source": "* #type casting/ type convestion >> the processes of changing the data type of a value/ object.",
      "metadata": {
        "trusted": true
      },
      "outputs": [],
      "execution_count": null
    },
    {
      "id": "476fc110-558a-435b-9dac-4ca071394acf",
      "cell_type": "code",
      "source": "10. #What is the difference between implicit and explicit type casting ?",
      "metadata": {
        "trusted": true
      },
      "outputs": [],
      "execution_count": null
    },
    {
      "id": "5d8c3504-2452-4f09-aebe-344e77943370",
      "cell_type": "code",
      "source": "*   #Explicit type conversion in programming is done manually by the programmer,\n    #while implicit conversion is handled automatically by the compiler.",
      "metadata": {
        "trusted": true
      },
      "outputs": [],
      "execution_count": null
    },
    {
      "id": "b3200243-0566-4129-b505-b358fc816c00",
      "cell_type": "code",
      "source": "11. #What is the purpose of conditional statements in Python ?",
      "metadata": {
        "trusted": true
      },
      "outputs": [],
      "execution_count": null
    },
    {
      "id": "bff2a6e9-de29-4049-aecd-386c8cf59465",
      "cell_type": "code",
      "source": "*  #Conditional statements in Python are used to execute certain blocks of code based on specific conditions.\n   #These statements help control the flow of a program, making it behave differently in different situations.",
      "metadata": {
        "trusted": true
      },
      "outputs": [],
      "execution_count": null
    },
    {
      "id": "a5bc4dbb-fbc8-4efc-855b-7cabfa02151f",
      "cell_type": "code",
      "source": "12. #How does the elif statement work ?",
      "metadata": {
        "trusted": true
      },
      "outputs": [],
      "execution_count": null
    },
    {
      "id": "6ee95b05-0d49-4246-a2a0-f5af8e043adf",
      "cell_type": "code",
      "source": "*  #The “elif” keyword in Python, stands for “else if”. It can be used in conditional statements to check for multiple conditions.\n   #For example, if the first condition is false, it moves on to the next “elif” statement to check if that condition is true.",
      "metadata": {
        "trusted": true
      },
      "outputs": [],
      "execution_count": null
    },
    {
      "id": "4f89daf7-1051-4967-b6a3-6f931ddf0ebe",
      "cell_type": "code",
      "source": "13. #What is the difference between for and while loops? ",
      "metadata": {
        "trusted": true
      },
      "outputs": [],
      "execution_count": null
    },
    {
      "id": "a8c8ad1d-b627-4d0c-9775-215471b9157a",
      "cell_type": "code",
      "source": "*  #For loop is used to iterate over a sequence of items. \n   #While loop is used to repeatedly execute a block of statements while a condition is true",
      "metadata": {
        "trusted": true
      },
      "outputs": [],
      "execution_count": null
    },
    {
      "id": "f842e6a3-36fa-4240-9c53-95d262db7abe",
      "cell_type": "code",
      "source": "14. #Describe a scenario where a while loop is more suitable than a for loop.",
      "metadata": {
        "trusted": true
      },
      "outputs": [],
      "execution_count": null
    },
    {
      "id": "b594c6e2-bc6e-4a51-9b86-bf66cae42464",
      "cell_type": "code",
      "source": " #A while loop is more suitable than a for loop when you don't know in advance \n #how many times you need to repeat a block of code—you just know you need to keep going until a certain condition is met.          ",
      "metadata": {
        "trusted": true
      },
      "outputs": [],
      "execution_count": null
    },
    {
      "id": "6a462ae7-15e5-4542-a449-b0d5083325dd",
      "cell_type": "code",
      "source": "",
      "metadata": {
        "trusted": true
      },
      "outputs": [],
      "execution_count": null
    }
  ]
}
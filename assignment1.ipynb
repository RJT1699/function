{
  "metadata": {
    "kernelspec": {
      "name": "python",
      "display_name": "Python (Pyodide)",
      "language": "python"
    },
    "language_info": {
      "codemirror_mode": {
        "name": "python",
        "version": 3
      },
      "file_extension": ".py",
      "mimetype": "text/x-python",
      "name": "python",
      "nbconvert_exporter": "python",
      "pygments_lexer": "ipython3",
      "version": "3.8"
    }
  },
  "nbformat_minor": 5,
  "nbformat": 4,
  "cells": [
    {
      "id": "3b719531-5bc6-4686-9b3c-e37d6eff3768",
      "cell_type": "code",
      "source": "1. #Write a Python program to print \"Hello, World! ",
      "metadata": {
        "trusted": true
      },
      "outputs": [],
      "execution_count": null
    },
    {
      "id": "8907f6cd-531c-4e89-a0af-bab2802c60d6",
      "cell_type": "code",
      "source": "print(\"hello wolrd\")",
      "metadata": {
        "trusted": true
      },
      "outputs": [
        {
          "name": "stdout",
          "output_type": "stream",
          "text": "hello wolrd\n"
        }
      ],
      "execution_count": 3
    },
    {
      "id": "f5bfdb67-3e01-470b-8c17-3b61d0a5bcac",
      "cell_type": "code",
      "source": "2. #Write a Python program that displays your name and age2. ",
      "metadata": {
        "trusted": true
      },
      "outputs": [],
      "execution_count": null
    },
    {
      "id": "121f92b9-0975-4b15-9b62-27e03883070d",
      "cell_type": "code",
      "source": "name = \"Rajat mishra\"\nname",
      "metadata": {
        "trusted": true
      },
      "outputs": [
        {
          "execution_count": 4,
          "output_type": "execute_result",
          "data": {
            "text/plain": "'Rajat mishra'"
          },
          "metadata": {}
        }
      ],
      "execution_count": 4
    },
    {
      "id": "189ff1e4-a10b-4aeb-8c26-cf0f01ab228e",
      "cell_type": "code",
      "source": "age = 24\nage",
      "metadata": {
        "trusted": true
      },
      "outputs": [
        {
          "execution_count": 5,
          "output_type": "execute_result",
          "data": {
            "text/plain": "24"
          },
          "metadata": {}
        }
      ],
      "execution_count": 5
    },
    {
      "id": "2f323682-66b4-40aa-84d9-94996ee9b3b6",
      "cell_type": "code",
      "source": "print(name,age)",
      "metadata": {
        "trusted": true
      },
      "outputs": [
        {
          "name": "stdout",
          "output_type": "stream",
          "text": "Rajat mishra 24\n"
        }
      ],
      "execution_count": 6
    },
    {
      "id": "b20d09fa-ef22-42ea-8992-e98368192fa2",
      "cell_type": "code",
      "source": "3.#Write code to print all the pre-defined keywords in Python using the keyword library",
      "metadata": {
        "trusted": true
      },
      "outputs": [],
      "execution_count": null
    },
    {
      "id": "775e1c63-d1bf-47f7-bf39-ecec13b2297d",
      "cell_type": "code",
      "source": "import keyword\nprint(keyword.kwlist)",
      "metadata": {
        "trusted": true
      },
      "outputs": [
        {
          "name": "stdout",
          "output_type": "stream",
          "text": "['False', 'None', 'True', 'and', 'as', 'assert', 'async', 'await', 'break', 'class', 'continue', 'def', 'del', 'elif', 'else', 'except', 'finally', 'for', 'from', 'global', 'if', 'import', 'in', 'is', 'lambda', 'nonlocal', 'not', 'or', 'pass', 'raise', 'return', 'try', 'while', 'with', 'yield']\n"
        }
      ],
      "execution_count": 7
    },
    {
      "id": "8c5f30ce-12b1-4d43-b95a-c75e1f227ab3",
      "cell_type": "code",
      "source": "4. #Write a program that checks if a given word is a Python keyword",
      "metadata": {
        "trusted": true
      },
      "outputs": [],
      "execution_count": null
    },
    {
      "id": "9eecfa11-7e3d-4155-8f14-fca159fb6a71",
      "cell_type": "code",
      "source": "import keyword\nkeyword.iskeyword(\"if\")\n",
      "metadata": {
        "trusted": true
      },
      "outputs": [
        {
          "execution_count": 8,
          "output_type": "execute_result",
          "data": {
            "text/plain": "True"
          },
          "metadata": {}
        }
      ],
      "execution_count": 8
    },
    {
      "id": "c9571491-d723-4a9c-b11f-55bc585275aa",
      "cell_type": "code",
      "source": "5.#Create a list and tuple in Python, and demonstrate how attempting to change an element works differently\n#for each.",
      "metadata": {
        "trusted": true
      },
      "outputs": [],
      "execution_count": null
    },
    {
      "id": "9308c07b-2070-4348-91a5-19b52f1ccbdf",
      "cell_type": "code",
      "source": "# Create a list and a tuple\nmy_list = [10, 20, 30]\nmy_tuple = (10, 20, 30)\n\n# Modify an element in the list\nmy_list[1] = 200\nprint(\"Modified list:\", my_list)\n\n# Try to modify an element in the tuple\ntry:\n    my_tuple[1] = 200\nexcept TypeError as e:\n    print(\"Error when trying to modify tuple:\", e)\n",
      "metadata": {
        "trusted": true
      },
      "outputs": [
        {
          "name": "stdout",
          "output_type": "stream",
          "text": "Modified list: [10, 200, 30]\nError when trying to modify tuple: 'tuple' object does not support item assignment\n"
        }
      ],
      "execution_count": 36
    },
    {
      "id": "79c65b1d-01c6-4eed-8f05-1eea7ab5ab70",
      "cell_type": "code",
      "source": "6. #Write a function to demonstrate the behavior of mutable and immutable arguments",
      "metadata": {
        "trusted": true
      },
      "outputs": [],
      "execution_count": null
    },
    {
      "id": "2d476b4f-cea1-44ca-8f26-22c8e9281f24",
      "cell_type": "code",
      "source": "#mutability\nlist_cont = [1,2,3,4.4,3+5j,True]\nlist_cont[0]\n",
      "metadata": {
        "trusted": true
      },
      "outputs": [
        {
          "execution_count": 37,
          "output_type": "execute_result",
          "data": {
            "text/plain": "1"
          },
          "metadata": {}
        }
      ],
      "execution_count": 37
    },
    {
      "id": "79330fe6-c7b8-437b-bb2a-600a5f22d9de",
      "cell_type": "code",
      "source": "type(list_cont)",
      "metadata": {
        "trusted": true
      },
      "outputs": [
        {
          "execution_count": 38,
          "output_type": "execute_result",
          "data": {
            "text/plain": "list"
          },
          "metadata": {}
        }
      ],
      "execution_count": 38
    },
    {
      "id": "9508a6ee-35a1-445a-87ae-88a64e1c11a1",
      "cell_type": "code",
      "source": "# Try to change the first character\nlist_cont[5] = False\nlist_cont",
      "metadata": {
        "trusted": true
      },
      "outputs": [
        {
          "execution_count": 39,
          "output_type": "execute_result",
          "data": {
            "text/plain": "[1, 2, 3, 4.4, (3+5j), False]"
          },
          "metadata": {}
        }
      ],
      "execution_count": 39
    },
    {
      "id": "9a7a9e46-35b7-456a-9c9a-50c16975046b",
      "cell_type": "code",
      "source": "#immutability\ntext = \"hello\"\n\n# Try to change the first character\ntry:\n    text[0] = 'H'  # Attempt to modify the string\nexcept TypeError as e:\n    print(\"Error:\", e)",
      "metadata": {
        "trusted": true
      },
      "outputs": [
        {
          "name": "stdout",
          "output_type": "stream",
          "text": "Error: 'str' object does not support item assignment\n"
        }
      ],
      "execution_count": 44
    },
    {
      "id": "760e5e85-9b3c-408e-9887-db88c45f7e55",
      "cell_type": "code",
      "source": "12. #Write a for loop to print numbers from 1 to 10.",
      "metadata": {
        "trusted": true
      },
      "outputs": [],
      "execution_count": null
    },
    {
      "id": "adb16acb-9ff5-445e-a186-e93b9fb1b31e",
      "cell_type": "code",
      "source": "for i in range(1, 11):\n    print(i)\n\n",
      "metadata": {
        "trusted": true
      },
      "outputs": [
        {
          "name": "stdout",
          "output_type": "stream",
          "text": "1\n2\n3\n4\n5\n6\n7\n8\n9\n10\n"
        }
      ],
      "execution_count": 45
    },
    {
      "id": "b51d4b02-ca93-4241-bc90-10054a39095e",
      "cell_type": "code",
      "source": "13. #Write a Python program to find the sum of all even numbers between 1 and 50",
      "metadata": {
        "trusted": true
      },
      "outputs": [],
      "execution_count": null
    },
    {
      "id": "1c476fbe-9cee-4ada-bcad-66a6096bfa1d",
      "cell_type": "code",
      "source": "even_sum = 0\nfor number in range(1,51):\n    if number % 2 == 0:\n        even_sum += number\n        print(\"sum of all even number between 1 to 50:\", even_sum)\n ",
      "metadata": {
        "trusted": true
      },
      "outputs": [
        {
          "name": "stdout",
          "output_type": "stream",
          "text": "sum of all even number between 1 to 50: 2\nsum of all even number between 1 to 50: 6\nsum of all even number between 1 to 50: 12\nsum of all even number between 1 to 50: 20\nsum of all even number between 1 to 50: 30\nsum of all even number between 1 to 50: 42\nsum of all even number between 1 to 50: 56\nsum of all even number between 1 to 50: 72\nsum of all even number between 1 to 50: 90\nsum of all even number between 1 to 50: 110\nsum of all even number between 1 to 50: 132\nsum of all even number between 1 to 50: 156\nsum of all even number between 1 to 50: 182\nsum of all even number between 1 to 50: 210\nsum of all even number between 1 to 50: 240\nsum of all even number between 1 to 50: 272\nsum of all even number between 1 to 50: 306\nsum of all even number between 1 to 50: 342\nsum of all even number between 1 to 50: 380\nsum of all even number between 1 to 50: 420\nsum of all even number between 1 to 50: 462\nsum of all even number between 1 to 50: 506\nsum of all even number between 1 to 50: 552\nsum of all even number between 1 to 50: 600\nsum of all even number between 1 to 50: 650\n"
        }
      ],
      "execution_count": 6
    },
    {
      "id": "4ac77151-150e-4a69-b400-6668d32ab5a4",
      "cell_type": "code",
      "source": "14. #Write a program to reverse a string using a while loop.",
      "metadata": {
        "trusted": true
      },
      "outputs": [],
      "execution_count": null
    },
    {
      "id": "2d27d328-9c1c-4bb3-8829-ff6ce031e9e7",
      "cell_type": "code",
      "source": "original_string = \"rajat\"\nreversed_string = \"\"\nindex = len(original_string) - 1\n\n# Use while loop to reverse the string\nwhile index >= 0:\n    reversed_string += original_string[index]\n    index -= 1\n    print(\"Reversed string:\", reversed_string)",
      "metadata": {
        "trusted": true
      },
      "outputs": [
        {
          "name": "stdout",
          "output_type": "stream",
          "text": "Reversed string: t\nReversed string: ta\nReversed string: taj\nReversed string: taja\nReversed string: tajar\n"
        }
      ],
      "execution_count": 12
    },
    {
      "id": "a991c31e-16aa-4b7d-a8b2-93f37bcdb466",
      "cell_type": "code",
      "source": "15.#Write a Python program to calculate the factorial of a number provided by the user using a while loop.",
      "metadata": {
        "trusted": true
      },
      "outputs": [],
      "execution_count": null
    },
    {
      "id": "02cfd26e-a20a-4ab9-a28d-008d505f4567",
      "cell_type": "code",
      "source": "num = 5\nfactorial = 1\ncounter = num\n\n# Calculate factorial using while loop\nwhile counter > 1:\n    factorial *= counter\n    counter -= 1\n\n# Print the result\nprint(f\"The factorial of {num} is {factorial}\")",
      "metadata": {
        "trusted": true
      },
      "outputs": [
        {
          "name": "stdout",
          "output_type": "stream",
          "text": "The factorial of 5 is 120\n"
        }
      ],
      "execution_count": 14
    },
    {
      "id": "2968e0e3-c343-4a76-9bff-e9a47e6f7368",
      "cell_type": "code",
      "source": "11. #Write a program that checks if a number is positive, negative, or zero.",
      "metadata": {
        "trusted": true
      },
      "outputs": [],
      "execution_count": null
    },
    {
      "id": "376afbe7-18dd-4017-8f3c-a770220a37ae",
      "cell_type": "code",
      "source": "num = 5\nif num > 0:\n    print(\"The number is positive.\")\nelif num < 0:\n    print(\"The number is negative.\")\nelse:\n    print(\"The number is zero.\")",
      "metadata": {
        "trusted": true
      },
      "outputs": [
        {
          "name": "stdout",
          "output_type": "stream",
          "text": "The number is positive.\n"
        }
      ],
      "execution_count": 15
    },
    {
      "id": "c4a51757-9e58-4f6a-adcb-1d364ae232e2",
      "cell_type": "code",
      "source": "10. #Write code to demonstrate type casting with list elements.",
      "metadata": {
        "trusted": true
      },
      "outputs": [],
      "execution_count": null
    },
    {
      "id": "23500887-7150-4968-b3e9-f6ab28a86663",
      "cell_type": "code",
      "source": "string_list = ['1', '2', '3', '4', '5']\n\n# Convert each string to an integer using type casting\nint_list = []\nfor item in string_list:\n    int_list.append(int(item))\n\n# Display the results\nprint(\"Original list (strings):\", string_list)\nprint(\"Converted list (integers):\", int_list)",
      "metadata": {
        "trusted": true
      },
      "outputs": [
        {
          "name": "stdout",
          "output_type": "stream",
          "text": "Original list (strings): ['1', '2', '3', '4', '5']\nConverted list (integers): [1, 2, 3, 4, 5]\n"
        }
      ],
      "execution_count": 16
    },
    {
      "id": "1315a8bf-d428-4785-bf18-2e1b2713a0f0",
      "cell_type": "code",
      "source": "8. #Write a program that checks if a given word is a Python keyword.",
      "metadata": {
        "trusted": true
      },
      "outputs": [],
      "execution_count": null
    },
    {
      "id": "57438949-b47b-4f16-b4f8-683333f19d93",
      "cell_type": "code",
      "source": "import keyword\nword = (\"global\")\n\n# Check if the word is a Python keyword\nif keyword.iskeyword(word):\n    print(f\"'{word}' is a Python keyword.\")\nelse:\n    print(f\"'{word}' is NOT a Python keyword.\")",
      "metadata": {
        "trusted": true
      },
      "outputs": [
        {
          "name": "stdout",
          "output_type": "stream",
          "text": "'global' is a Python keyword.\n"
        }
      ],
      "execution_count": 19
    },
    {
      "id": "a7ca746f-3a4e-40ee-8357-dda749927359",
      "cell_type": "code",
      "source": "9. #Write a Python program to convert user input from string to integer, float, and boolean types.",
      "metadata": {
        "trusted": true
      },
      "outputs": [],
      "execution_count": null
    },
    {
      "id": "12efa931-3b7e-4fe4-b0a1-299890d9d2c8",
      "cell_type": "code",
      "source": "def demonstrate_mutable_immutable(num, num_list):\n    print(\"Inside function before modification:\")\n    print(\"num =\", num)\n    print(\"num_list =\", num_list)\n    \n    # Modify the immutable argument\n    num += 10\n    \n    # Modify the mutable argument\n    num_list.append(100)\n    \n    print(\"Inside function after modification:\")\n    print(\"num =\", num)\n    print(\"num_list =\", num_list)\n",
      "metadata": {
        "trusted": true
      },
      "outputs": [],
      "execution_count": 22
    },
    {
      "id": "8915f04c-d205-4a21-92cb-e71856dc51ef",
      "cell_type": "code",
      "source": "7. #Write a program that performs basic arithmetic operations on two user-input numbers",
      "metadata": {
        "trusted": true
      },
      "outputs": [],
      "execution_count": null
    },
    {
      "id": "09673373-c656-468d-a6ac-e5244e6b4a9d",
      "cell_type": "code",
      "source": "num1 =int(input(\"Enter the first number: \"))\nnum2 = int(input(\"Enter the second number: \"))\n\n# Perform arithmetic operations\naddition = num1 + num2\nsubtraction = num1 - num2\nmultiplication = num1 * num2\n\n# Handle division by zero\nif num2 != 0:\n    division = num1 / num2\nelse:\n    division = \"Undefined (division by zero)\"",
      "metadata": {
        "trusted": true
      },
      "outputs": [],
      "execution_count": null
    },
    {
      "id": "660c3467-fa05-4ae6-8cf2-0e4e46078036",
      "cell_type": "code",
      "source": "",
      "metadata": {
        "trusted": true
      },
      "outputs": [],
      "execution_count": null
    }
  ]
}